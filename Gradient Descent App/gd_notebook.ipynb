{
 "cells": [
  {
   "cell_type": "code",
   "execution_count": 1,
   "metadata": {},
   "outputs": [],
   "source": [
    "import pandas as pd\n",
    "import numpy as np\n",
    "import matplotlib.pyplot as plt\n",
    "import seaborn as sns\n",
    "from sklearn.datasets import make_regression\n",
    "from sklearn.linear_model import LinearRegression\n",
    "from sklearn.metrics import r2_score\n",
    "from sklearn.model_selection import cross_val_score, train_test_split"
   ]
  },
  {
   "cell_type": "code",
   "execution_count": 2,
   "metadata": {},
   "outputs": [
    {
     "name": "stdout",
     "output_type": "stream",
     "text": [
      "The shape of X is (200, 1)\n",
      "The shape of y is (200,)\n"
     ]
    }
   ],
   "source": [
    "# create the dataset\n",
    "X, y = make_regression(n_samples=200, n_features=1,\n",
    "                       n_informative=1, random_state=27, noise=35)\n",
    "\n",
    "print('The shape of X is', X.shape)\n",
    "print('The shape of y is', y.shape)"
   ]
  },
  {
   "cell_type": "code",
   "execution_count": 3,
   "metadata": {},
   "outputs": [
    {
     "data": {
      "image/png": "[encoded data removed]",
      "text/plain": [
       "<Figure size 640x480 with 1 Axes>"
      ]
     },
     "metadata": {},
     "output_type": "display_data"
    }
   ],
   "source": [
    "# plot the data\n",
    "\n",
    "plt.scatter(X, y, color='green')\n",
    "plt.show()"
   ]
  },
  {
   "cell_type": "code",
   "execution_count": 4,
   "metadata": {},
   "outputs": [],
   "source": [
    "# do train test split\n",
    "X_train, X_test, y_train, y_test = train_test_split(\n",
    "    X, y, test_size=0.2, random_state=42)"
   ]
  },
  {
   "cell_type": "code",
   "execution_count": 5,
   "metadata": {},
   "outputs": [
    {
     "name": "stdout",
     "output_type": "stream",
     "text": [
      "The r2 score on the train data is 0.5846992436759911\n",
      "The r2 score on the test data is 0.650108701600583\n",
      "Coefficients 43.903346707237404\n",
      "Intercept -1.6688472569342139\n"
     ]
    }
   ],
   "source": [
    "# fit the linear regression\n",
    "\n",
    "lr = LinearRegression()\n",
    "\n",
    "# fit on the data\n",
    "lr.fit(X_train, y_train)\n",
    "\n",
    "# do predictions on the test data\n",
    "y_pred_train = lr.predict(X_train)\n",
    "y_pred_test = lr.predict(X_test)\n",
    "\n",
    "# calculate r2 score\n",
    "print('The r2 score on the train data is', r2_score(y_train, y_pred_train))\n",
    "print('The r2 score on the test data is', r2_score(y_test, y_pred_test))\n",
    "\n",
    "# print the parameters\n",
    "print('Coefficients', lr.coef_[0])\n",
    "print('Intercept', lr.intercept_)"
   ]
  },
  {
   "cell_type": "code",
   "execution_count": 10,
   "metadata": {},
   "outputs": [
    {
     "name": "stdout",
     "output_type": "stream",
     "text": [
      "(160, 5)\n",
      "(40, 5)\n"
     ]
    }
   ],
   "source": [
    "# create new data that has 5 input columns\n",
    "\n",
    "X, y = make_regression(n_samples=200, n_features=5,\n",
    "                       n_informative=3, noise=37, random_state=87)\n",
    "\n",
    "# do train test split\n",
    "\n",
    "X_train, X_test, y_train, y_test = train_test_split(\n",
    "    X, y, test_size=0.2, random_state=42)\n",
    "print(X_train.shape)\n",
    "print(X_test.shape)"
   ]
  },
  {
   "cell_type": "code",
   "execution_count": 11,
   "metadata": {},
   "outputs": [
    {
     "name": "stdout",
     "output_type": "stream",
     "text": [
      "The score is  0.8206982619251723\n",
      "The coef values are [ 3.96126613 -3.85977926 66.56006742  3.34038837 67.44698854]\n",
      "The intercept value is  -2.3583434670932704\n"
     ]
    }
   ],
   "source": [
    "# train the linear regression on this new data\n",
    "\n",
    "linear_reg = LinearRegression()\n",
    "\n",
    "# fit on the train data\n",
    "linear_reg.fit(X_train, y_train)\n",
    "\n",
    "# predict on the test data\n",
    "y_pred = linear_reg.predict(X_test)\n",
    "\n",
    "# get the r2 scores\n",
    "print('The score is ', r2_score(y_test, y_pred))\n",
    "\n",
    "# get the parameters values\n",
    "print('The coef values are', linear_reg.coef_)\n",
    "print('The intercept value is ', linear_reg.intercept_)"
   ]
  },
  {
   "cell_type": "code",
   "execution_count": 18,
   "metadata": {},
   "outputs": [],
   "source": [
    "# create the class for Batch gradient descent\n",
    "\n",
    "class GD_Regressor:\n",
    "\n",
    "    def __init__(self, epochs=100, learning_rate=0.01):\n",
    "        self.learning_rate = learning_rate\n",
    "        self.epochs = epochs\n",
    "        self.coef_ = None\n",
    "        self.intercept_ = None\n",
    "\n",
    "    def fit(self, X, y):\n",
    "        # initialize the weights and intercept\n",
    "        self.intercept_ = 0\n",
    "        self.coef_ = np.ones(shape=X.shape[1])\n",
    "\n",
    "        # for n number of epochs\n",
    "        for i in range(self.epochs):\n",
    "\n",
    "            # do predictions\n",
    "            y_pred = np.dot(X, self.coef_) + self.intercept_\n",
    "            resid = y - y_pred\n",
    "\n",
    "            # update the intercept\n",
    "            intercept_der = -2 * np.mean(resid)\n",
    "            self.intercept_ = self.intercept_ - \\\n",
    "                (self.learning_rate * intercept_der)\n",
    "\n",
    "            # update the coef\n",
    "            coef_der = (-2 * (np.dot(resid, X))) / X.shape[0]\n",
    "            self.coef_ = self.coef_ - (self.learning_rate * coef_der)\n",
    "\n",
    "    def predict(self, X):\n",
    "        y_pred = np.dot(X, self.coef_) + self.intercept_\n",
    "        return y_pred\n",
    "\n",
    "    def score(self, y_true, y_pred):\n",
    "        score = r2_score(y_true=y_true, y_pred=y_pred)\n",
    "        return score"
   ]
  },
  {
   "cell_type": "code",
   "execution_count": 26,
   "metadata": {},
   "outputs": [
    {
     "data": {
      "text/plain": [
       "0.8206636743838617"
      ]
     },
     "execution_count": 26,
     "metadata": {},
     "output_type": "execute_result"
    }
   ],
   "source": [
    "# train the model\n",
    "\n",
    "gd_reg = GD_Regressor(epochs=250, learning_rate=0.02)\n",
    "\n",
    "gd_reg.fit(X_train, y_train)\n",
    "\n",
    "# get predictions\n",
    "y_pred = gd_reg.predict(X_test)\n",
    "\n",
    "# get the score\n",
    "score = gd_reg.score(y_test, y_pred)\n",
    "\n",
    "score"
   ]
  },
  {
   "cell_type": "code",
   "execution_count": 27,
   "metadata": {},
   "outputs": [
    {
     "name": "stdout",
     "output_type": "stream",
     "text": [
      "The coef values are [ 3.97111023 -3.87069173 66.54638486  3.32427241 67.43856324]\n",
      "The intercept value is  -2.3542540192368415\n"
     ]
    }
   ],
   "source": [
    "# get the parameters values\n",
    "print('The coef values are', gd_reg.coef_)\n",
    "print('The intercept value is ', gd_reg.intercept_)"
   ]
  },
  {
   "cell_type": "code",
   "execution_count": null,
   "metadata": {},
   "outputs": [],
   "source": []
  }
 ],
 "metadata": {
  "kernelspec": {
   "display_name": "Python 3",
   "language": "python",
   "name": "python3"
  },
  "language_info": {
   "codemirror_mode": {
    "name": "ipython",
    "version": 3
   },
   "file_extension": ".py",
   "mimetype": "text/x-python",
   "name": "python",
   "nbconvert_exporter": "python",
   "pygments_lexer": "ipython3",
   "version": "3.10.11"
  },
  "orig_nbformat": 4
 },
 "nbformat": 4,
 "nbformat_minor": 2
}
